{
 "cells": [
  {
   "cell_type": "markdown",
   "metadata": {
    "deletable": true,
    "editable": true
   },
   "source": [
    "# CMAP DATA "
   ]
  },
  {
   "cell_type": "code",
   "execution_count": 8,
   "metadata": {
    "collapsed": true,
    "deletable": true,
    "editable": true
   },
   "outputs": [],
   "source": [
    "import numpy as np\n",
    "import pandas as pd\n",
    "import combat as cb\n",
    "import patsy\n",
    "from matplotlib.mlab import PCA as mlabPCA\n",
    "import datetime"
   ]
  },
  {
   "cell_type": "code",
   "execution_count": null,
   "metadata": {
    "collapsed": true
   },
   "outputs": [],
   "source": [
    "%load_ext rpy2.ipython"
   ]
  },
  {
   "cell_type": "code",
   "execution_count": null,
   "metadata": {
    "collapsed": true
   },
   "outputs": [],
   "source": [
    "%R library(affy)\n",
    "%R Data <- ReadAffy()\n",
    "%R eset <- expresso(Data, bgcorrect.method=\"rma\",\n",
    "                  normalize.method=\"quantiles\",\n",
    "                 pmcorrect.method=\"pmonly\",\n",
    "                 summary.method=\"medianpolish\")\n",
    "%R write.csv(exprs(eset), 'ExprMat_rma.csv')"
   ]
  },
  {
   "cell_type": "code",
   "execution_count": null,
   "metadata": {
    "collapsed": true
   },
   "outputs": [],
   "source": []
  },
  {
   "cell_type": "markdown",
   "metadata": {},
   "source": [
    "Load in each file from volume 1, must load each file per type of chip seperately"
   ]
  },
  {
   "cell_type": "code",
   "execution_count": null,
   "metadata": {
    "collapsed": true
   },
   "outputs": [],
   "source": [
    "df1 = pd.read_csv('cmap_build02.volume1of7/614615111406/ExprMat_rma_614615111406.csv', sep=',')\n",
    "df2 = pd.read_csv('cmap_build02.volume1of7/622623112706/ExprMat_rma_622623112706.csv', sep=',')\n",
    "df3 = pd.read_csv('cmap_build02.volume1of7/5202764005789148112904/ExprMat_rma_5202764005789148112904.csv', sep=',')\n",
    "df4 = pd.read_csv('cmap_build02.volume1of7/5500024017802120306174/ExprMat_rma_5500024017802120306174.csv', sep=',')\n",
    "df5 = pd.read_csv('cmap_build02.volume1of7/CL2004060801/ExprMat_rma_CL2004060801.csv', sep=',')\n",
    "df6 = pd.read_csv('cmap_build02.volume1of7/EC2003090/ExprMat_rma_EC2003090.csv', sep=',')"
   ]
  },
  {
   "cell_type": "markdown",
   "metadata": {},
   "source": [
    "Merge all files from volume 1 into one file"
   ]
  },
  {
   "cell_type": "code",
   "execution_count": null,
   "metadata": {
    "collapsed": true
   },
   "outputs": [],
   "source": [
    "df_1of7 = pd.merge(df1,df2, how='outer', on='Unnamed: 0')\n",
    "df_1of7 = pd.merge(df_1of7,df3, how='outer', on='Unnamed: 0')\n",
    "df_1of7 = pd.merge(df_1of7,df4, how='outer', on='Unnamed: 0')\n",
    "df_1of7 = pd.merge(df_1of7,df5, how='outer', on='Unnamed: 0')\n",
    "df_1of7 = pd.merge(df_1of7,df6, how='outer', on='Unnamed: 0')"
   ]
  },
  {
   "cell_type": "code",
   "execution_count": null,
   "metadata": {
    "collapsed": true
   },
   "outputs": [],
   "source": [
    "df_1of7.dropna(how='all', inplace=True)"
   ]
  },
  {
   "cell_type": "code",
   "execution_count": null,
   "metadata": {
    "collapsed": true
   },
   "outputs": [],
   "source": [
    "df_1of7.to_csv('1of7.csv', sep=',', index=False)"
   ]
  },
  {
   "cell_type": "markdown",
   "metadata": {},
   "source": [
    "Load in each file from volume 2, must load each file per type of chip seperately"
   ]
  },
  {
   "cell_type": "code",
   "execution_count": null,
   "metadata": {
    "collapsed": true
   },
   "outputs": [],
   "source": [
    "df1= pd.read_csv('cmap_build02.volume2of7/55000/ExprMat_rma_55000.csv', sep=',')\n",
    "df2= pd.read_csv('cmap_build02.volume2of7/610611110806/ExprMat_rma_610611110806.csv', sep=',')\n",
    "df3=pd.read_csv('cmap_build02.volume2of7/612613111306/ExprMat_rma_612613111306.csv', sep=',')\n",
    "df4=pd.read_csv('cmap_build02.volume2of7/622623112706/ExprMat_rma_622623112706.csv', sep=',')\n",
    "df5=pd.read_csv('cmap_build02.volume2of7/640641112706/ExprMat_rma_640641112706.csv', sep=',')"
   ]
  },
  {
   "cell_type": "markdown",
   "metadata": {},
   "source": [
    "Merge all files from volume 1 into one file"
   ]
  },
  {
   "cell_type": "code",
   "execution_count": null,
   "metadata": {
    "collapsed": true
   },
   "outputs": [],
   "source": [
    "df_2of7 = pd.merge(df1,df2, how='outer', on='Unnamed: 0')\n",
    "df_2of7 = pd.merge(df_2of7,df3, how='outer', on='Unnamed: 0')\n",
    "df_2of7 = pd.merge(df_2of7,df4, how='outer', on='Unnamed: 0')\n",
    "df_2of7 = pd.merge(df_2of7,df5, how='outer', on='Unnamed: 0')"
   ]
  },
  {
   "cell_type": "code",
   "execution_count": null,
   "metadata": {
    "collapsed": true
   },
   "outputs": [],
   "source": [
    "df_2of7.dropna(how='all', inplace=True)"
   ]
  },
  {
   "cell_type": "code",
   "execution_count": null,
   "metadata": {
    "collapsed": true
   },
   "outputs": [],
   "source": [
    "df_2of7.to_csv('2of7.csv', sep=',', index=False)"
   ]
  },
  {
   "cell_type": "code",
   "execution_count": null,
   "metadata": {
    "collapsed": true
   },
   "outputs": [],
   "source": []
  },
  {
   "cell_type": "code",
   "execution_count": null,
   "metadata": {
    "collapsed": true
   },
   "outputs": [],
   "source": [
    "df_3of7 = pd.read_csv('cmap_build02.volume3of7/ExprMat_rma.csv', sep=',')"
   ]
  },
  {
   "cell_type": "code",
   "execution_count": null,
   "metadata": {
    "collapsed": true
   },
   "outputs": [],
   "source": [
    "df_3of7.dropna(how='all', inplace=True)"
   ]
  },
  {
   "cell_type": "code",
   "execution_count": null,
   "metadata": {
    "collapsed": true
   },
   "outputs": [],
   "source": [
    "df_3of7.to_csv('3of7.csv', sep=',', index=False)"
   ]
  },
  {
   "cell_type": "code",
   "execution_count": null,
   "metadata": {
    "collapsed": true
   },
   "outputs": [],
   "source": []
  },
  {
   "cell_type": "code",
   "execution_count": null,
   "metadata": {
    "collapsed": true
   },
   "outputs": [],
   "source": [
    "df_4of7=pd.read_csv('cmap_build02.volume4of7/ExprMat_rma.csv', sep=',')"
   ]
  },
  {
   "cell_type": "code",
   "execution_count": null,
   "metadata": {
    "collapsed": true
   },
   "outputs": [],
   "source": [
    "df_4of7.dropna(how='all', inplace=True)"
   ]
  },
  {
   "cell_type": "code",
   "execution_count": null,
   "metadata": {
    "collapsed": true
   },
   "outputs": [],
   "source": [
    "df_4of7.to_csv('4of7.csv', sep=',', index=False)"
   ]
  },
  {
   "cell_type": "code",
   "execution_count": null,
   "metadata": {
    "collapsed": true
   },
   "outputs": [],
   "source": []
  },
  {
   "cell_type": "code",
   "execution_count": null,
   "metadata": {
    "collapsed": true
   },
   "outputs": [],
   "source": [
    "df_5of7=pd.read_csv('cmap_build02.volume5of7/ExprMat_rma.csv', sep=',')"
   ]
  },
  {
   "cell_type": "code",
   "execution_count": null,
   "metadata": {
    "collapsed": true
   },
   "outputs": [],
   "source": [
    "df_5of7.dropna(how='all', inplace=True)"
   ]
  },
  {
   "cell_type": "code",
   "execution_count": null,
   "metadata": {
    "collapsed": true
   },
   "outputs": [],
   "source": [
    "df_5of7.to_csv('5of7.csv', sep=',', index=False)"
   ]
  },
  {
   "cell_type": "code",
   "execution_count": null,
   "metadata": {
    "collapsed": true
   },
   "outputs": [],
   "source": []
  },
  {
   "cell_type": "code",
   "execution_count": null,
   "metadata": {
    "collapsed": true
   },
   "outputs": [],
   "source": [
    "df_6of7=pd.read_csv('cmap_build02.volume6of7/ExprMat_rma.csv', sep=',')"
   ]
  },
  {
   "cell_type": "code",
   "execution_count": null,
   "metadata": {
    "collapsed": true
   },
   "outputs": [],
   "source": [
    "df_6of7.dropna(how='all', inplace=True)"
   ]
  },
  {
   "cell_type": "code",
   "execution_count": null,
   "metadata": {
    "collapsed": true
   },
   "outputs": [],
   "source": [
    "df_6of7.to_csv('6of7.csv', sep=',', index=False)"
   ]
  },
  {
   "cell_type": "code",
   "execution_count": null,
   "metadata": {
    "collapsed": true
   },
   "outputs": [],
   "source": []
  },
  {
   "cell_type": "code",
   "execution_count": null,
   "metadata": {
    "collapsed": true
   },
   "outputs": [],
   "source": [
    "df_7of7=pd.read_csv('cmap_build02.volume7of7/ExprMat_rma.csv', sep=',')"
   ]
  },
  {
   "cell_type": "code",
   "execution_count": null,
   "metadata": {
    "collapsed": true
   },
   "outputs": [],
   "source": [
    "df_7of7.dropna(how='all', inplace=True)"
   ]
  },
  {
   "cell_type": "code",
   "execution_count": null,
   "metadata": {
    "collapsed": true
   },
   "outputs": [],
   "source": [
    "df_7of7.to_csv('7of7.csv', sep=',', index=False)"
   ]
  },
  {
   "cell_type": "code",
   "execution_count": null,
   "metadata": {
    "collapsed": true
   },
   "outputs": [],
   "source": []
  },
  {
   "cell_type": "code",
   "execution_count": null,
   "metadata": {
    "collapsed": true
   },
   "outputs": [],
   "source": [
    "df = pd.merge(df_1of7,df_2of7, how='outer', on='Unnamed: 0')\n",
    "df = pd.merge(df,df_3of7, how='outer', on='Unnamed: 0')\n",
    "df = pd.merge(df,df_4of7, how='outer', on='Unnamed: 0')\n",
    "df = pd.merge(df,df_5of7, how='outer', on='Unnamed: 0')\n",
    "df = pd.merge(df,df_6of7, how='outer', on='Unnamed: 0')\n",
    "df = pd.merge(df,df_7of7, how='outer', on='Unnamed: 0')"
   ]
  },
  {
   "cell_type": "code",
   "execution_count": null,
   "metadata": {
    "collapsed": true
   },
   "outputs": [],
   "source": [
    "df.to_csv('cmap_merged.csv', sep=',', index=False)"
   ]
  },
  {
   "cell_type": "code",
   "execution_count": null,
   "metadata": {
    "collapsed": true
   },
   "outputs": [],
   "source": [
    "df = pd.read_csv('cmap_merged.csv', sep=',')"
   ]
  },
  {
   "cell_type": "markdown",
   "metadata": {
    "deletable": true,
    "editable": true
   },
   "source": [
    "### READ IN THE METADATA FILE"
   ]
  },
  {
   "cell_type": "code",
   "execution_count": 9,
   "metadata": {
    "collapsed": true,
    "deletable": true,
    "editable": true
   },
   "outputs": [],
   "source": [
    "meta = pd.read_excel('cmap_instances_02.xlsx')"
   ]
  },
  {
   "cell_type": "code",
   "execution_count": 10,
   "metadata": {
    "collapsed": true,
    "deletable": true,
    "editable": true
   },
   "outputs": [],
   "source": [
    "meta = meta.ix[0:6099].copy()"
   ]
  },
  {
   "cell_type": "code",
   "execution_count": 14,
   "metadata": {
    "collapsed": true,
    "deletable": true,
    "editable": true
   },
   "outputs": [],
   "source": [
    "# creat a table with each sample pertubation and the corresponding control sample\n",
    "control_lst = []\n",
    "for ind in meta.index:\n",
    "    if type(meta.ix[ind, 'vehicle_scan_id4']) != float:\n",
    "\n",
    "        if len(meta.ix[ind, 'vehicle_scan_id4'].split('.')) > 2:\n",
    "            mini_lst = []\n",
    "            for append in meta.ix[ind, 'vehicle_scan_id4'].split('.')[1:]:\n",
    "                mini_lst.append('.'.join((meta.ix[ind, 'perturbation_scan_id'].split('.')[0], append)))\n",
    "            control_lst.append(mini_lst)\n",
    "        else:\n",
    "            control_lst.append(meta.ix[ind, 'vehicle_scan_id4'])\n",
    "    else:\n",
    "        control_lst.append(np.nan)\n",
    "\n",
    "test = pd.DataFrame(data=control_lst, columns=['controls'])\n",
    "meta = pd.concat([meta, test], axis=1)"
   ]
  },
  {
   "cell_type": "markdown",
   "metadata": {
    "deletable": true,
    "editable": true
   },
   "source": [
    "### CREATE A DATFRAME OF METADATA INDEXED BASED ON DISRED VALUES"
   ]
  },
  {
   "cell_type": "code",
   "execution_count": 11,
   "metadata": {
    "collapsed": true,
    "deletable": true,
    "editable": true
   },
   "outputs": [],
   "source": [
    "indexs = [meta['cmap_name'].values, meta['cell2'].values, meta['concentration (M)'].values, meta['duration (h)']]"
   ]
  },
  {
   "cell_type": "code",
   "execution_count": 12,
   "metadata": {
    "collapsed": true,
    "deletable": true,
    "editable": true
   },
   "outputs": [],
   "source": [
    "col = np.array(['perturbation_scan_id', 'vehicle_scan_id4', 'vehicle', 'batch_id', 'catalog_name', 'controls'])"
   ]
  },
  {
   "cell_type": "code",
   "execution_count": 15,
   "metadata": {
    "collapsed": false,
    "deletable": true,
    "editable": true
   },
   "outputs": [],
   "source": [
    "meta_indexed = pd.DataFrame(meta[col].values.copy(), index=indexs, columns=col)"
   ]
  },
  {
   "cell_type": "code",
   "execution_count": 16,
   "metadata": {
    "collapsed": true,
    "deletable": true,
    "editable": true
   },
   "outputs": [],
   "source": [
    "meta_indexed.dropna(how='all', inplace=True)"
   ]
  },
  {
   "cell_type": "code",
   "execution_count": 17,
   "metadata": {
    "collapsed": true,
    "deletable": true,
    "editable": true
   },
   "outputs": [],
   "source": [
    "meta_indexed.sort_index(inplace=True)"
   ]
  },
  {
   "cell_type": "code",
   "execution_count": 175,
   "metadata": {
    "collapsed": true,
    "deletable": true,
    "editable": true
   },
   "outputs": [],
   "source": [
    "filename = '/Users/moshesilverstein/Desktop/cmap/meta_indexed_%s.tsv'% str(datetime.date.today()).replace('-', '_')\n",
    "meta_indexed.to_csv(filename, sep='\\t')"
   ]
  },
  {
   "cell_type": "markdown",
   "metadata": {
    "deletable": true,
    "editable": true
   },
   "source": [
    "### CREATE MATRIX OF P VALUES, Q VALUES, AND FOLD CHANGES"
   ]
  },
  {
   "cell_type": "code",
   "execution_count": 18,
   "metadata": {
    "collapsed": true,
    "deletable": true,
    "editable": true
   },
   "outputs": [],
   "source": [
    "#%load_ext rpy2.ipython"
   ]
  },
  {
   "cell_type": "code",
   "execution_count": 19,
   "metadata": {
    "collapsed": false,
    "deletable": true,
    "editable": true
   },
   "outputs": [
    {
     "name": "stderr",
     "output_type": "stream",
     "text": [
      "/Users/moshesilverstein/anaconda/lib/python3.5/site-packages/ipykernel/__main__.py:1: ParserWarning: Falling back to the 'python' engine because the 'c' engine does not support regex separators (separators > 1 char and different from '\\s+' are interpreted as regex); you can avoid this warning by specifying engine='python'.\n",
      "  if __name__ == '__main__':\n"
     ]
    }
   ],
   "source": [
    "df = pd.read_csv('data_after_combat_avg_genes_02_23_17.tsv', index_col=0, sep='\\\\t')"
   ]
  },
  {
   "cell_type": "code",
   "execution_count": 95,
   "metadata": {
    "collapsed": true,
    "deletable": true,
    "editable": true
   },
   "outputs": [],
   "source": [
    "p_df = pd.DataFrame(index=df.index.copy(), columns=meta_indexed.index.unique().copy())"
   ]
  },
  {
   "cell_type": "code",
   "execution_count": 96,
   "metadata": {
    "collapsed": true,
    "deletable": true,
    "editable": true
   },
   "outputs": [],
   "source": [
    "fold_change = pd.DataFrame(index=p_df.index.copy(), columns=p_df.columns.copy())"
   ]
  },
  {
   "cell_type": "code",
   "execution_count": 97,
   "metadata": {
    "collapsed": true,
    "deletable": true,
    "editable": true
   },
   "outputs": [],
   "source": [
    "q_df = pd.DataFrame(index=p_df.index.copy(), columns=p_df.columns.copy())"
   ]
  },
  {
   "cell_type": "code",
   "execution_count": 108,
   "metadata": {
    "collapsed": false,
    "deletable": true,
    "editable": true
   },
   "outputs": [
    {
     "name": "stdout",
     "output_type": "stream",
     "text": [
      " 3742 Out of 3742 83 Out of 3742 585 Out of 3742 961 Out of 3742 1120 Out of 3742 1122 Out of 3742  1129 Out of 3742  1182 Out of 3742   1319 Out of 3742   1921 Out of 3742 2523 Out of 3742   2931 Out of 3742  3070 Out of 3742   "
     ]
    }
   ],
   "source": [
    "# get list of columns to run limma on,\n",
    "i = 1\n",
    "for index in meta_indexed.index.unique():\n",
    "\n",
    "    lst_interest = []\n",
    "    lst_pert = []\n",
    "    lst_ctr = []\n",
    "\n",
    "    print('\\r', str(i)+' Out of '+ str(len(meta_indexed.index.unique())), end=' ', flush=True)\n",
    "\n",
    "    #lst_interest = meta_indexed.ix[index[0], index[1], index[2], index[3]]['perturbation_scan_id'].tolist()\n",
    "    for item in meta_indexed.ix[index[0], index[1], index[2], index[3]]['perturbation_scan_id'].tolist():\n",
    "\n",
    "        if item in df.columns:\n",
    "            lst_pert.append(item)\n",
    "\n",
    "    for item in meta_indexed.ix[index[0], index[1], index[2], index[3]]['controls'].tolist():\n",
    "\n",
    "        if type(item) == list:\n",
    "            for thing in item:\n",
    "                if thing in df.columns:\n",
    "                    lst_ctr.append(thing)\n",
    "        else:\n",
    "            if item in df.columns:\n",
    "                lst_ctr.append(item)\n",
    "\n",
    "    if len(lst_pert) >= 3:\n",
    "        if len(lst_ctr) >= 3:\n",
    "            lst_interest = lst_pert+lst_ctr\n",
    "\n",
    "    new_lst = []\n",
    "    for word in lst_interest:\n",
    "        word = word.split('\\'')\n",
    "        if len(word) > 1:\n",
    "            new_lst.append(word[1])\n",
    "        else:\n",
    "            new_lst.append(word[0])\n",
    "\n",
    "    lst_interest = new_lst\n",
    "\n",
    "    lst_interest = set(lst_interest)\n",
    "    lst_interest = list(lst_interest)\n",
    "\n",
    "\n",
    "    if len(lst_interest) > 0:\n",
    "\n",
    "        # build design matrix\n",
    "        control_list_full = []\n",
    "        for item in meta_indexed['controls'].tolist():\n",
    "            if type(item) == list:\n",
    "                for thing in item:\n",
    "                    control_list_full.append(thing)\n",
    "            else:\n",
    "                control_list_full.append(item)\n",
    "\n",
    "\n",
    "        a = np.ones(len(lst_interest))\n",
    "        b = []\n",
    "        for item in lst_interest:\n",
    "            if item in control_list_full:\n",
    "                b.append(1)\n",
    "                #print('yes')\n",
    "            else:\n",
    "                b.append(0)\n",
    "                #print('no')\n",
    "        b = np.array(b)\n",
    "        design  = np.vstack((a, b)).T\n",
    "\n",
    "        matrix = df[lst_interest].values\n",
    "        genes = df.index\n",
    "\n",
    "        %R -i matrix\n",
    "        %R -i design\n",
    "        %R -i genes \n",
    "        %R library(limma)\n",
    "        %R library(sva)\n",
    "        %R options(warn=-1)\n",
    "\n",
    "        %R rownames(matrix) <- genes\n",
    "        %R fit <-lmFit(matrix, design) \n",
    "        %R fit <- eBayes(fit)\n",
    "        %R resultsTable <- topTable(fit,coef=2, number=nrow(matrix))\n",
    "        #%R resultsTable\n",
    "        %R -o resultsTable\n",
    "        #print(resultsTable.head())\n",
    "        p_df[index] = resultsTable['P.Value']\n",
    "        q_df[index] = resultsTable['adj.P.Val']\n",
    "        fold_change[index] = resultsTable['logFC']\n",
    "\n",
    "    i+=1"
   ]
  },
  {
   "cell_type": "code",
   "execution_count": 109,
   "metadata": {
    "collapsed": false,
    "deletable": true,
    "editable": true
   },
   "outputs": [],
   "source": [
    "#resultsTable['P.Value']"
   ]
  },
  {
   "cell_type": "code",
   "execution_count": 114,
   "metadata": {
    "collapsed": false,
    "deletable": true,
    "editable": true
   },
   "outputs": [
    {
     "data": {
      "text/html": [
       "<div>\n",
       "<table border=\"1\" class=\"dataframe\">\n",
       "  <thead>\n",
       "    <tr>\n",
       "      <th></th>\n",
       "      <th colspan=\"3\" halign=\"left\">15-delta prostaglandin J2</th>\n",
       "      <th>3-hydroxy-DL-kynurenine</th>\n",
       "      <th>6-benzylaminopurine</th>\n",
       "      <th colspan=\"2\" halign=\"left\">6-bromoindirubin-3'-oxime</th>\n",
       "      <th colspan=\"2\" halign=\"left\">AG-013608</th>\n",
       "      <th>LM-1685</th>\n",
       "      <th>...</th>\n",
       "      <th colspan=\"7\" halign=\"left\">valproic acid</th>\n",
       "      <th>vincamine</th>\n",
       "      <th colspan=\"2\" halign=\"left\">wortmannin</th>\n",
       "    </tr>\n",
       "    <tr>\n",
       "      <th></th>\n",
       "      <th>HL60</th>\n",
       "      <th>MCF7</th>\n",
       "      <th>PC3</th>\n",
       "      <th>MCF7</th>\n",
       "      <th>MCF7</th>\n",
       "      <th>MCF7</th>\n",
       "      <th>PC3</th>\n",
       "      <th>MCF7</th>\n",
       "      <th>PC3</th>\n",
       "      <th>MCF7</th>\n",
       "      <th>...</th>\n",
       "      <th colspan=\"3\" halign=\"left\">HL60</th>\n",
       "      <th colspan=\"3\" halign=\"left\">MCF7</th>\n",
       "      <th>PC3</th>\n",
       "      <th>MCF7</th>\n",
       "      <th>HL60</th>\n",
       "      <th>MCF7</th>\n",
       "    </tr>\n",
       "    <tr>\n",
       "      <th></th>\n",
       "      <th>1.000000e-05</th>\n",
       "      <th>1.000000e-05</th>\n",
       "      <th>1.000000e-05</th>\n",
       "      <th>1.780000e-05</th>\n",
       "      <th>1.780000e-05</th>\n",
       "      <th>5.000000e-07</th>\n",
       "      <th>5.000000e-07</th>\n",
       "      <th>1.000000e-05</th>\n",
       "      <th>1.000000e-05</th>\n",
       "      <th>1.000000e-05</th>\n",
       "      <th>...</th>\n",
       "      <th>2.000000e-04</th>\n",
       "      <th>5.000000e-04</th>\n",
       "      <th>1.000000e-03</th>\n",
       "      <th>2.000000e-04</th>\n",
       "      <th>5.000000e-04</th>\n",
       "      <th>1.000000e-03</th>\n",
       "      <th>1.000000e-03</th>\n",
       "      <th>1.120000e-05</th>\n",
       "      <th>1.000000e-08</th>\n",
       "      <th>1.000000e-08</th>\n",
       "    </tr>\n",
       "    <tr>\n",
       "      <th></th>\n",
       "      <th>6.0</th>\n",
       "      <th>6.0</th>\n",
       "      <th>6.0</th>\n",
       "      <th>6.0</th>\n",
       "      <th>6.0</th>\n",
       "      <th>6.0</th>\n",
       "      <th>6.0</th>\n",
       "      <th>6.0</th>\n",
       "      <th>6.0</th>\n",
       "      <th>6.0</th>\n",
       "      <th>...</th>\n",
       "      <th>6.0</th>\n",
       "      <th>6.0</th>\n",
       "      <th>6.0</th>\n",
       "      <th>6.0</th>\n",
       "      <th>6.0</th>\n",
       "      <th>6.0</th>\n",
       "      <th>6.0</th>\n",
       "      <th>6.0</th>\n",
       "      <th>6.0</th>\n",
       "      <th>6.0</th>\n",
       "    </tr>\n",
       "    <tr>\n",
       "      <th>index</th>\n",
       "      <th></th>\n",
       "      <th></th>\n",
       "      <th></th>\n",
       "      <th></th>\n",
       "      <th></th>\n",
       "      <th></th>\n",
       "      <th></th>\n",
       "      <th></th>\n",
       "      <th></th>\n",
       "      <th></th>\n",
       "      <th></th>\n",
       "      <th></th>\n",
       "      <th></th>\n",
       "      <th></th>\n",
       "      <th></th>\n",
       "      <th></th>\n",
       "      <th></th>\n",
       "      <th></th>\n",
       "      <th></th>\n",
       "      <th></th>\n",
       "      <th></th>\n",
       "    </tr>\n",
       "  </thead>\n",
       "  <tbody>\n",
       "    <tr>\n",
       "      <th>A1CF</th>\n",
       "      <td>0.799756</td>\n",
       "      <td>0.144091</td>\n",
       "      <td>0.993589</td>\n",
       "      <td>0.975733</td>\n",
       "      <td>0.223257</td>\n",
       "      <td>0.210633</td>\n",
       "      <td>0.691359</td>\n",
       "      <td>0.681436</td>\n",
       "      <td>0.520492</td>\n",
       "      <td>0.565909</td>\n",
       "      <td>...</td>\n",
       "      <td>0.672424</td>\n",
       "      <td>0.039543</td>\n",
       "      <td>0.869648</td>\n",
       "      <td>0.696350</td>\n",
       "      <td>0.898167</td>\n",
       "      <td>0.936660</td>\n",
       "      <td>0.986640</td>\n",
       "      <td>0.116411</td>\n",
       "      <td>0.565086</td>\n",
       "      <td>0.007268</td>\n",
       "    </tr>\n",
       "    <tr>\n",
       "      <th>A2M</th>\n",
       "      <td>0.911062</td>\n",
       "      <td>0.789686</td>\n",
       "      <td>0.660706</td>\n",
       "      <td>0.814467</td>\n",
       "      <td>0.794401</td>\n",
       "      <td>0.227157</td>\n",
       "      <td>0.171758</td>\n",
       "      <td>0.488431</td>\n",
       "      <td>0.454289</td>\n",
       "      <td>0.084941</td>\n",
       "      <td>...</td>\n",
       "      <td>0.805704</td>\n",
       "      <td>0.747767</td>\n",
       "      <td>0.676101</td>\n",
       "      <td>0.223711</td>\n",
       "      <td>0.617407</td>\n",
       "      <td>0.225590</td>\n",
       "      <td>0.274146</td>\n",
       "      <td>0.078061</td>\n",
       "      <td>0.569624</td>\n",
       "      <td>0.325941</td>\n",
       "    </tr>\n",
       "    <tr>\n",
       "      <th>A4GALT</th>\n",
       "      <td>0.033308</td>\n",
       "      <td>0.024078</td>\n",
       "      <td>0.615707</td>\n",
       "      <td>0.216408</td>\n",
       "      <td>0.954204</td>\n",
       "      <td>0.122205</td>\n",
       "      <td>0.789358</td>\n",
       "      <td>0.172074</td>\n",
       "      <td>0.131457</td>\n",
       "      <td>0.075365</td>\n",
       "      <td>...</td>\n",
       "      <td>0.032103</td>\n",
       "      <td>0.513718</td>\n",
       "      <td>0.291612</td>\n",
       "      <td>0.555303</td>\n",
       "      <td>0.284254</td>\n",
       "      <td>0.323685</td>\n",
       "      <td>0.448928</td>\n",
       "      <td>0.610644</td>\n",
       "      <td>0.144250</td>\n",
       "      <td>0.289554</td>\n",
       "    </tr>\n",
       "    <tr>\n",
       "      <th>A4GNT</th>\n",
       "      <td>0.456231</td>\n",
       "      <td>0.284050</td>\n",
       "      <td>0.559524</td>\n",
       "      <td>0.308571</td>\n",
       "      <td>0.900868</td>\n",
       "      <td>0.063802</td>\n",
       "      <td>0.812756</td>\n",
       "      <td>0.353337</td>\n",
       "      <td>0.520917</td>\n",
       "      <td>0.116360</td>\n",
       "      <td>...</td>\n",
       "      <td>0.209242</td>\n",
       "      <td>0.070508</td>\n",
       "      <td>0.054083</td>\n",
       "      <td>0.333767</td>\n",
       "      <td>0.411577</td>\n",
       "      <td>0.414807</td>\n",
       "      <td>0.626904</td>\n",
       "      <td>0.235119</td>\n",
       "      <td>0.327886</td>\n",
       "      <td>0.559956</td>\n",
       "    </tr>\n",
       "    <tr>\n",
       "      <th>AAAS</th>\n",
       "      <td>0.392365</td>\n",
       "      <td>0.625068</td>\n",
       "      <td>0.834789</td>\n",
       "      <td>0.681347</td>\n",
       "      <td>0.711755</td>\n",
       "      <td>0.020338</td>\n",
       "      <td>0.131023</td>\n",
       "      <td>0.416906</td>\n",
       "      <td>0.580970</td>\n",
       "      <td>0.874887</td>\n",
       "      <td>...</td>\n",
       "      <td>0.032056</td>\n",
       "      <td>0.000011</td>\n",
       "      <td>0.032246</td>\n",
       "      <td>0.050103</td>\n",
       "      <td>0.000172</td>\n",
       "      <td>0.064645</td>\n",
       "      <td>0.723243</td>\n",
       "      <td>0.088710</td>\n",
       "      <td>0.977988</td>\n",
       "      <td>0.323625</td>\n",
       "    </tr>\n",
       "  </tbody>\n",
       "</table>\n",
       "<p>5 rows × 200 columns</p>\n",
       "</div>"
      ],
      "text/plain": [
       "       15-delta prostaglandin J2                            \\\n",
       "                            HL60         MCF7          PC3   \n",
       "                    1.000000e-05 1.000000e-05 1.000000e-05   \n",
       "                             6.0          6.0          6.0   \n",
       "index                                                        \n",
       "A1CF                    0.799756     0.144091     0.993589   \n",
       "A2M                     0.911062     0.789686     0.660706   \n",
       "A4GALT                  0.033308     0.024078     0.615707   \n",
       "A4GNT                   0.456231     0.284050     0.559524   \n",
       "AAAS                    0.392365     0.625068     0.834789   \n",
       "\n",
       "       3-hydroxy-DL-kynurenine 6-benzylaminopurine 6-bromoindirubin-3'-oxime  \\\n",
       "                          MCF7                MCF7                      MCF7   \n",
       "                  1.780000e-05        1.780000e-05              5.000000e-07   \n",
       "                           6.0                 6.0                       6.0   \n",
       "index                                                                          \n",
       "A1CF                  0.975733            0.223257                  0.210633   \n",
       "A2M                   0.814467            0.794401                  0.227157   \n",
       "A4GALT                0.216408            0.954204                  0.122205   \n",
       "A4GNT                 0.308571            0.900868                  0.063802   \n",
       "AAAS                  0.681347            0.711755                  0.020338   \n",
       "\n",
       "                       AG-013608                   LM-1685     ...       \\\n",
       "                PC3         MCF7          PC3         MCF7     ...        \n",
       "       5.000000e-07 1.000000e-05 1.000000e-05 1.000000e-05     ...        \n",
       "                6.0          6.0          6.0          6.0     ...        \n",
       "index                                                          ...        \n",
       "A1CF       0.691359     0.681436     0.520492     0.565909     ...        \n",
       "A2M        0.171758     0.488431     0.454289     0.084941     ...        \n",
       "A4GALT     0.789358     0.172074     0.131457     0.075365     ...        \n",
       "A4GNT      0.812756     0.353337     0.520917     0.116360     ...        \n",
       "AAAS       0.131023     0.416906     0.580970     0.874887     ...        \n",
       "\n",
       "       valproic acid                                                      \\\n",
       "                HL60                                   MCF7                \n",
       "        2.000000e-04 5.000000e-04 1.000000e-03 2.000000e-04 5.000000e-04   \n",
       "                 6.0          6.0          6.0          6.0          6.0   \n",
       "index                                                                      \n",
       "A1CF        0.672424     0.039543     0.869648     0.696350     0.898167   \n",
       "A2M         0.805704     0.747767     0.676101     0.223711     0.617407   \n",
       "A4GALT      0.032103     0.513718     0.291612     0.555303     0.284254   \n",
       "A4GNT       0.209242     0.070508     0.054083     0.333767     0.411577   \n",
       "AAAS        0.032056     0.000011     0.032246     0.050103     0.000172   \n",
       "\n",
       "                                    vincamine   wortmannin               \n",
       "                             PC3         MCF7         HL60         MCF7  \n",
       "       1.000000e-03 1.000000e-03 1.120000e-05 1.000000e-08 1.000000e-08  \n",
       "                6.0          6.0          6.0          6.0          6.0  \n",
       "index                                                                    \n",
       "A1CF       0.936660     0.986640     0.116411     0.565086     0.007268  \n",
       "A2M        0.225590     0.274146     0.078061     0.569624     0.325941  \n",
       "A4GALT     0.323685     0.448928     0.610644     0.144250     0.289554  \n",
       "A4GNT      0.414807     0.626904     0.235119     0.327886     0.559956  \n",
       "AAAS       0.064645     0.723243     0.088710     0.977988     0.323625  \n",
       "\n",
       "[5 rows x 200 columns]"
      ]
     },
     "execution_count": 114,
     "metadata": {},
     "output_type": "execute_result"
    }
   ],
   "source": [
    "p_df.head()"
   ]
  },
  {
   "cell_type": "code",
   "execution_count": 115,
   "metadata": {
    "collapsed": false,
    "deletable": true,
    "editable": true
   },
   "outputs": [
    {
     "data": {
      "text/html": [
       "<div>\n",
       "<table border=\"1\" class=\"dataframe\">\n",
       "  <thead>\n",
       "    <tr>\n",
       "      <th></th>\n",
       "      <th colspan=\"3\" halign=\"left\">15-delta prostaglandin J2</th>\n",
       "      <th>3-hydroxy-DL-kynurenine</th>\n",
       "      <th>6-benzylaminopurine</th>\n",
       "      <th colspan=\"2\" halign=\"left\">6-bromoindirubin-3'-oxime</th>\n",
       "      <th colspan=\"2\" halign=\"left\">AG-013608</th>\n",
       "      <th>LM-1685</th>\n",
       "      <th>...</th>\n",
       "      <th colspan=\"7\" halign=\"left\">valproic acid</th>\n",
       "      <th>vincamine</th>\n",
       "      <th colspan=\"2\" halign=\"left\">wortmannin</th>\n",
       "    </tr>\n",
       "    <tr>\n",
       "      <th></th>\n",
       "      <th>HL60</th>\n",
       "      <th>MCF7</th>\n",
       "      <th>PC3</th>\n",
       "      <th>MCF7</th>\n",
       "      <th>MCF7</th>\n",
       "      <th>MCF7</th>\n",
       "      <th>PC3</th>\n",
       "      <th>MCF7</th>\n",
       "      <th>PC3</th>\n",
       "      <th>MCF7</th>\n",
       "      <th>...</th>\n",
       "      <th colspan=\"3\" halign=\"left\">HL60</th>\n",
       "      <th colspan=\"3\" halign=\"left\">MCF7</th>\n",
       "      <th>PC3</th>\n",
       "      <th>MCF7</th>\n",
       "      <th>HL60</th>\n",
       "      <th>MCF7</th>\n",
       "    </tr>\n",
       "    <tr>\n",
       "      <th></th>\n",
       "      <th>1.000000e-05</th>\n",
       "      <th>1.000000e-05</th>\n",
       "      <th>1.000000e-05</th>\n",
       "      <th>1.780000e-05</th>\n",
       "      <th>1.780000e-05</th>\n",
       "      <th>5.000000e-07</th>\n",
       "      <th>5.000000e-07</th>\n",
       "      <th>1.000000e-05</th>\n",
       "      <th>1.000000e-05</th>\n",
       "      <th>1.000000e-05</th>\n",
       "      <th>...</th>\n",
       "      <th>2.000000e-04</th>\n",
       "      <th>5.000000e-04</th>\n",
       "      <th>1.000000e-03</th>\n",
       "      <th>2.000000e-04</th>\n",
       "      <th>5.000000e-04</th>\n",
       "      <th>1.000000e-03</th>\n",
       "      <th>1.000000e-03</th>\n",
       "      <th>1.120000e-05</th>\n",
       "      <th>1.000000e-08</th>\n",
       "      <th>1.000000e-08</th>\n",
       "    </tr>\n",
       "    <tr>\n",
       "      <th></th>\n",
       "      <th>6.0</th>\n",
       "      <th>6.0</th>\n",
       "      <th>6.0</th>\n",
       "      <th>6.0</th>\n",
       "      <th>6.0</th>\n",
       "      <th>6.0</th>\n",
       "      <th>6.0</th>\n",
       "      <th>6.0</th>\n",
       "      <th>6.0</th>\n",
       "      <th>6.0</th>\n",
       "      <th>...</th>\n",
       "      <th>6.0</th>\n",
       "      <th>6.0</th>\n",
       "      <th>6.0</th>\n",
       "      <th>6.0</th>\n",
       "      <th>6.0</th>\n",
       "      <th>6.0</th>\n",
       "      <th>6.0</th>\n",
       "      <th>6.0</th>\n",
       "      <th>6.0</th>\n",
       "      <th>6.0</th>\n",
       "    </tr>\n",
       "    <tr>\n",
       "      <th>index</th>\n",
       "      <th></th>\n",
       "      <th></th>\n",
       "      <th></th>\n",
       "      <th></th>\n",
       "      <th></th>\n",
       "      <th></th>\n",
       "      <th></th>\n",
       "      <th></th>\n",
       "      <th></th>\n",
       "      <th></th>\n",
       "      <th></th>\n",
       "      <th></th>\n",
       "      <th></th>\n",
       "      <th></th>\n",
       "      <th></th>\n",
       "      <th></th>\n",
       "      <th></th>\n",
       "      <th></th>\n",
       "      <th></th>\n",
       "      <th></th>\n",
       "      <th></th>\n",
       "    </tr>\n",
       "  </thead>\n",
       "  <tbody>\n",
       "    <tr>\n",
       "      <th>A1CF</th>\n",
       "      <td>0.904853</td>\n",
       "      <td>0.311430</td>\n",
       "      <td>0.998797</td>\n",
       "      <td>0.996198</td>\n",
       "      <td>0.920846</td>\n",
       "      <td>0.599804</td>\n",
       "      <td>0.893182</td>\n",
       "      <td>0.946674</td>\n",
       "      <td>0.824559</td>\n",
       "      <td>0.969894</td>\n",
       "      <td>...</td>\n",
       "      <td>0.865660</td>\n",
       "      <td>0.125107</td>\n",
       "      <td>0.950142</td>\n",
       "      <td>0.941097</td>\n",
       "      <td>0.972252</td>\n",
       "      <td>0.979490</td>\n",
       "      <td>0.997480</td>\n",
       "      <td>0.777075</td>\n",
       "      <td>0.917726</td>\n",
       "      <td>0.041179</td>\n",
       "    </tr>\n",
       "    <tr>\n",
       "      <th>A2M</th>\n",
       "      <td>0.959012</td>\n",
       "      <td>0.896476</td>\n",
       "      <td>0.917395</td>\n",
       "      <td>0.977512</td>\n",
       "      <td>0.996445</td>\n",
       "      <td>0.616103</td>\n",
       "      <td>0.516644</td>\n",
       "      <td>0.883495</td>\n",
       "      <td>0.789139</td>\n",
       "      <td>0.800570</td>\n",
       "      <td>...</td>\n",
       "      <td>0.926933</td>\n",
       "      <td>0.851998</td>\n",
       "      <td>0.869713</td>\n",
       "      <td>0.730360</td>\n",
       "      <td>0.858721</td>\n",
       "      <td>0.553595</td>\n",
       "      <td>0.733508</td>\n",
       "      <td>0.768272</td>\n",
       "      <td>0.919872</td>\n",
       "      <td>0.589308</td>\n",
       "    </tr>\n",
       "    <tr>\n",
       "      <th>A4GALT</th>\n",
       "      <td>0.111981</td>\n",
       "      <td>0.079123</td>\n",
       "      <td>0.896988</td>\n",
       "      <td>0.842514</td>\n",
       "      <td>0.999423</td>\n",
       "      <td>0.485232</td>\n",
       "      <td>0.930403</td>\n",
       "      <td>0.710082</td>\n",
       "      <td>0.508852</td>\n",
       "      <td>0.787443</td>\n",
       "      <td>...</td>\n",
       "      <td>0.189419</td>\n",
       "      <td>0.681268</td>\n",
       "      <td>0.608817</td>\n",
       "      <td>0.901660</td>\n",
       "      <td>0.622935</td>\n",
       "      <td>0.649084</td>\n",
       "      <td>0.853211</td>\n",
       "      <td>0.933738</td>\n",
       "      <td>0.664673</td>\n",
       "      <td>0.551820</td>\n",
       "    </tr>\n",
       "    <tr>\n",
       "      <th>A4GNT</th>\n",
       "      <td>0.675791</td>\n",
       "      <td>0.497798</td>\n",
       "      <td>0.875250</td>\n",
       "      <td>0.878196</td>\n",
       "      <td>0.998875</td>\n",
       "      <td>0.377954</td>\n",
       "      <td>0.938303</td>\n",
       "      <td>0.814040</td>\n",
       "      <td>0.824559</td>\n",
       "      <td>0.825096</td>\n",
       "      <td>...</td>\n",
       "      <td>0.512171</td>\n",
       "      <td>0.182254</td>\n",
       "      <td>0.253757</td>\n",
       "      <td>0.810065</td>\n",
       "      <td>0.736329</td>\n",
       "      <td>0.720354</td>\n",
       "      <td>0.917064</td>\n",
       "      <td>0.810173</td>\n",
       "      <td>0.826891</td>\n",
       "      <td>0.777239</td>\n",
       "    </tr>\n",
       "    <tr>\n",
       "      <th>AAAS</th>\n",
       "      <td>0.621994</td>\n",
       "      <td>0.795873</td>\n",
       "      <td>0.967093</td>\n",
       "      <td>0.962397</td>\n",
       "      <td>0.991737</td>\n",
       "      <td>0.246969</td>\n",
       "      <td>0.457602</td>\n",
       "      <td>0.849393</td>\n",
       "      <td>0.852755</td>\n",
       "      <td>0.992007</td>\n",
       "      <td>...</td>\n",
       "      <td>0.189419</td>\n",
       "      <td>0.000564</td>\n",
       "      <td>0.191309</td>\n",
       "      <td>0.423168</td>\n",
       "      <td>0.004980</td>\n",
       "      <td>0.283002</td>\n",
       "      <td>0.939921</td>\n",
       "      <td>0.768272</td>\n",
       "      <td>0.998516</td>\n",
       "      <td>0.586828</td>\n",
       "    </tr>\n",
       "  </tbody>\n",
       "</table>\n",
       "<p>5 rows × 200 columns</p>\n",
       "</div>"
      ],
      "text/plain": [
       "       15-delta prostaglandin J2                            \\\n",
       "                            HL60         MCF7          PC3   \n",
       "                    1.000000e-05 1.000000e-05 1.000000e-05   \n",
       "                             6.0          6.0          6.0   \n",
       "index                                                        \n",
       "A1CF                    0.904853     0.311430     0.998797   \n",
       "A2M                     0.959012     0.896476     0.917395   \n",
       "A4GALT                  0.111981     0.079123     0.896988   \n",
       "A4GNT                   0.675791     0.497798     0.875250   \n",
       "AAAS                    0.621994     0.795873     0.967093   \n",
       "\n",
       "       3-hydroxy-DL-kynurenine 6-benzylaminopurine 6-bromoindirubin-3'-oxime  \\\n",
       "                          MCF7                MCF7                      MCF7   \n",
       "                  1.780000e-05        1.780000e-05              5.000000e-07   \n",
       "                           6.0                 6.0                       6.0   \n",
       "index                                                                          \n",
       "A1CF                  0.996198            0.920846                  0.599804   \n",
       "A2M                   0.977512            0.996445                  0.616103   \n",
       "A4GALT                0.842514            0.999423                  0.485232   \n",
       "A4GNT                 0.878196            0.998875                  0.377954   \n",
       "AAAS                  0.962397            0.991737                  0.246969   \n",
       "\n",
       "                       AG-013608                   LM-1685     ...       \\\n",
       "                PC3         MCF7          PC3         MCF7     ...        \n",
       "       5.000000e-07 1.000000e-05 1.000000e-05 1.000000e-05     ...        \n",
       "                6.0          6.0          6.0          6.0     ...        \n",
       "index                                                          ...        \n",
       "A1CF       0.893182     0.946674     0.824559     0.969894     ...        \n",
       "A2M        0.516644     0.883495     0.789139     0.800570     ...        \n",
       "A4GALT     0.930403     0.710082     0.508852     0.787443     ...        \n",
       "A4GNT      0.938303     0.814040     0.824559     0.825096     ...        \n",
       "AAAS       0.457602     0.849393     0.852755     0.992007     ...        \n",
       "\n",
       "       valproic acid                                                      \\\n",
       "                HL60                                   MCF7                \n",
       "        2.000000e-04 5.000000e-04 1.000000e-03 2.000000e-04 5.000000e-04   \n",
       "                 6.0          6.0          6.0          6.0          6.0   \n",
       "index                                                                      \n",
       "A1CF        0.865660     0.125107     0.950142     0.941097     0.972252   \n",
       "A2M         0.926933     0.851998     0.869713     0.730360     0.858721   \n",
       "A4GALT      0.189419     0.681268     0.608817     0.901660     0.622935   \n",
       "A4GNT       0.512171     0.182254     0.253757     0.810065     0.736329   \n",
       "AAAS        0.189419     0.000564     0.191309     0.423168     0.004980   \n",
       "\n",
       "                                    vincamine   wortmannin               \n",
       "                             PC3         MCF7         HL60         MCF7  \n",
       "       1.000000e-03 1.000000e-03 1.120000e-05 1.000000e-08 1.000000e-08  \n",
       "                6.0          6.0          6.0          6.0          6.0  \n",
       "index                                                                    \n",
       "A1CF       0.979490     0.997480     0.777075     0.917726     0.041179  \n",
       "A2M        0.553595     0.733508     0.768272     0.919872     0.589308  \n",
       "A4GALT     0.649084     0.853211     0.933738     0.664673     0.551820  \n",
       "A4GNT      0.720354     0.917064     0.810173     0.826891     0.777239  \n",
       "AAAS       0.283002     0.939921     0.768272     0.998516     0.586828  \n",
       "\n",
       "[5 rows x 200 columns]"
      ]
     },
     "execution_count": 115,
     "metadata": {},
     "output_type": "execute_result"
    }
   ],
   "source": [
    "q_df.head()"
   ]
  },
  {
   "cell_type": "code",
   "execution_count": 116,
   "metadata": {
    "collapsed": false,
    "deletable": true,
    "editable": true
   },
   "outputs": [
    {
     "data": {
      "text/html": [
       "<div>\n",
       "<table border=\"1\" class=\"dataframe\">\n",
       "  <thead>\n",
       "    <tr>\n",
       "      <th></th>\n",
       "      <th colspan=\"3\" halign=\"left\">15-delta prostaglandin J2</th>\n",
       "      <th>3-hydroxy-DL-kynurenine</th>\n",
       "      <th>6-benzylaminopurine</th>\n",
       "      <th colspan=\"2\" halign=\"left\">6-bromoindirubin-3'-oxime</th>\n",
       "      <th colspan=\"2\" halign=\"left\">AG-013608</th>\n",
       "      <th>LM-1685</th>\n",
       "      <th>...</th>\n",
       "      <th colspan=\"7\" halign=\"left\">valproic acid</th>\n",
       "      <th>vincamine</th>\n",
       "      <th colspan=\"2\" halign=\"left\">wortmannin</th>\n",
       "    </tr>\n",
       "    <tr>\n",
       "      <th></th>\n",
       "      <th>HL60</th>\n",
       "      <th>MCF7</th>\n",
       "      <th>PC3</th>\n",
       "      <th>MCF7</th>\n",
       "      <th>MCF7</th>\n",
       "      <th>MCF7</th>\n",
       "      <th>PC3</th>\n",
       "      <th>MCF7</th>\n",
       "      <th>PC3</th>\n",
       "      <th>MCF7</th>\n",
       "      <th>...</th>\n",
       "      <th colspan=\"3\" halign=\"left\">HL60</th>\n",
       "      <th colspan=\"3\" halign=\"left\">MCF7</th>\n",
       "      <th>PC3</th>\n",
       "      <th>MCF7</th>\n",
       "      <th>HL60</th>\n",
       "      <th>MCF7</th>\n",
       "    </tr>\n",
       "    <tr>\n",
       "      <th></th>\n",
       "      <th>1.000000e-05</th>\n",
       "      <th>1.000000e-05</th>\n",
       "      <th>1.000000e-05</th>\n",
       "      <th>1.780000e-05</th>\n",
       "      <th>1.780000e-05</th>\n",
       "      <th>5.000000e-07</th>\n",
       "      <th>5.000000e-07</th>\n",
       "      <th>1.000000e-05</th>\n",
       "      <th>1.000000e-05</th>\n",
       "      <th>1.000000e-05</th>\n",
       "      <th>...</th>\n",
       "      <th>2.000000e-04</th>\n",
       "      <th>5.000000e-04</th>\n",
       "      <th>1.000000e-03</th>\n",
       "      <th>2.000000e-04</th>\n",
       "      <th>5.000000e-04</th>\n",
       "      <th>1.000000e-03</th>\n",
       "      <th>1.000000e-03</th>\n",
       "      <th>1.120000e-05</th>\n",
       "      <th>1.000000e-08</th>\n",
       "      <th>1.000000e-08</th>\n",
       "    </tr>\n",
       "    <tr>\n",
       "      <th></th>\n",
       "      <th>6.0</th>\n",
       "      <th>6.0</th>\n",
       "      <th>6.0</th>\n",
       "      <th>6.0</th>\n",
       "      <th>6.0</th>\n",
       "      <th>6.0</th>\n",
       "      <th>6.0</th>\n",
       "      <th>6.0</th>\n",
       "      <th>6.0</th>\n",
       "      <th>6.0</th>\n",
       "      <th>...</th>\n",
       "      <th>6.0</th>\n",
       "      <th>6.0</th>\n",
       "      <th>6.0</th>\n",
       "      <th>6.0</th>\n",
       "      <th>6.0</th>\n",
       "      <th>6.0</th>\n",
       "      <th>6.0</th>\n",
       "      <th>6.0</th>\n",
       "      <th>6.0</th>\n",
       "      <th>6.0</th>\n",
       "    </tr>\n",
       "    <tr>\n",
       "      <th>index</th>\n",
       "      <th></th>\n",
       "      <th></th>\n",
       "      <th></th>\n",
       "      <th></th>\n",
       "      <th></th>\n",
       "      <th></th>\n",
       "      <th></th>\n",
       "      <th></th>\n",
       "      <th></th>\n",
       "      <th></th>\n",
       "      <th></th>\n",
       "      <th></th>\n",
       "      <th></th>\n",
       "      <th></th>\n",
       "      <th></th>\n",
       "      <th></th>\n",
       "      <th></th>\n",
       "      <th></th>\n",
       "      <th></th>\n",
       "      <th></th>\n",
       "      <th></th>\n",
       "    </tr>\n",
       "  </thead>\n",
       "  <tbody>\n",
       "    <tr>\n",
       "      <th>A1CF</th>\n",
       "      <td>-0.025078</td>\n",
       "      <td>0.127368</td>\n",
       "      <td>0.001395</td>\n",
       "      <td>-0.003066</td>\n",
       "      <td>-0.153014</td>\n",
       "      <td>-0.189491</td>\n",
       "      <td>-0.056747</td>\n",
       "      <td>0.053712</td>\n",
       "      <td>-0.090796</td>\n",
       "      <td>-0.109169</td>\n",
       "      <td>...</td>\n",
       "      <td>-0.041008</td>\n",
       "      <td>-0.269693</td>\n",
       "      <td>-0.015152</td>\n",
       "      <td>-0.035858</td>\n",
       "      <td>0.010266</td>\n",
       "      <td>0.006143</td>\n",
       "      <td>-0.002440</td>\n",
       "      <td>0.201364</td>\n",
       "      <td>0.052372</td>\n",
       "      <td>0.201365</td>\n",
       "    </tr>\n",
       "    <tr>\n",
       "      <th>A2M</th>\n",
       "      <td>-0.015576</td>\n",
       "      <td>0.022358</td>\n",
       "      <td>0.067911</td>\n",
       "      <td>-0.032976</td>\n",
       "      <td>-0.028465</td>\n",
       "      <td>0.149992</td>\n",
       "      <td>0.201412</td>\n",
       "      <td>0.111231</td>\n",
       "      <td>-0.093552</td>\n",
       "      <td>-0.306034</td>\n",
       "      <td>...</td>\n",
       "      <td>0.034296</td>\n",
       "      <td>-0.046127</td>\n",
       "      <td>-0.050175</td>\n",
       "      <td>0.113847</td>\n",
       "      <td>0.045908</td>\n",
       "      <td>-0.103037</td>\n",
       "      <td>-0.157547</td>\n",
       "      <td>0.203395</td>\n",
       "      <td>-0.071980</td>\n",
       "      <td>-0.085206</td>\n",
       "    </tr>\n",
       "    <tr>\n",
       "      <th>A4GALT</th>\n",
       "      <td>-0.296519</td>\n",
       "      <td>0.227515</td>\n",
       "      <td>-0.089734</td>\n",
       "      <td>0.187174</td>\n",
       "      <td>-0.010061</td>\n",
       "      <td>0.281815</td>\n",
       "      <td>-0.047598</td>\n",
       "      <td>0.296198</td>\n",
       "      <td>-0.203035</td>\n",
       "      <td>-0.387214</td>\n",
       "      <td>...</td>\n",
       "      <td>-0.306343</td>\n",
       "      <td>0.097723</td>\n",
       "      <td>-0.158896</td>\n",
       "      <td>-0.064560</td>\n",
       "      <td>-0.119326</td>\n",
       "      <td>0.098423</td>\n",
       "      <td>-0.110845</td>\n",
       "      <td>-0.084516</td>\n",
       "      <td>0.161199</td>\n",
       "      <td>-0.110990</td>\n",
       "    </tr>\n",
       "    <tr>\n",
       "      <th>A4GNT</th>\n",
       "      <td>-0.074186</td>\n",
       "      <td>-0.081250</td>\n",
       "      <td>0.068047</td>\n",
       "      <td>0.137116</td>\n",
       "      <td>0.014077</td>\n",
       "      <td>0.264988</td>\n",
       "      <td>0.029992</td>\n",
       "      <td>0.130128</td>\n",
       "      <td>0.078643</td>\n",
       "      <td>-0.274783</td>\n",
       "      <td>...</td>\n",
       "      <td>0.138222</td>\n",
       "      <td>0.192490</td>\n",
       "      <td>-0.183027</td>\n",
       "      <td>-0.080426</td>\n",
       "      <td>0.064828</td>\n",
       "      <td>0.056421</td>\n",
       "      <td>0.051705</td>\n",
       "      <td>-0.137162</td>\n",
       "      <td>0.083373</td>\n",
       "      <td>0.040680</td>\n",
       "    </tr>\n",
       "    <tr>\n",
       "      <th>AAAS</th>\n",
       "      <td>0.134011</td>\n",
       "      <td>0.040782</td>\n",
       "      <td>-0.040988</td>\n",
       "      <td>-0.064429</td>\n",
       "      <td>0.071562</td>\n",
       "      <td>0.358606</td>\n",
       "      <td>-0.208294</td>\n",
       "      <td>-0.132877</td>\n",
       "      <td>-0.089925</td>\n",
       "      <td>-0.028209</td>\n",
       "      <td>...</td>\n",
       "      <td>0.347947</td>\n",
       "      <td>0.839472</td>\n",
       "      <td>0.303069</td>\n",
       "      <td>0.197391</td>\n",
       "      <td>0.351875</td>\n",
       "      <td>0.179905</td>\n",
       "      <td>0.064108</td>\n",
       "      <td>0.299778</td>\n",
       "      <td>0.003838</td>\n",
       "      <td>-0.086696</td>\n",
       "    </tr>\n",
       "  </tbody>\n",
       "</table>\n",
       "<p>5 rows × 200 columns</p>\n",
       "</div>"
      ],
      "text/plain": [
       "       15-delta prostaglandin J2                            \\\n",
       "                            HL60         MCF7          PC3   \n",
       "                    1.000000e-05 1.000000e-05 1.000000e-05   \n",
       "                             6.0          6.0          6.0   \n",
       "index                                                        \n",
       "A1CF                   -0.025078     0.127368     0.001395   \n",
       "A2M                    -0.015576     0.022358     0.067911   \n",
       "A4GALT                 -0.296519     0.227515    -0.089734   \n",
       "A4GNT                  -0.074186    -0.081250     0.068047   \n",
       "AAAS                    0.134011     0.040782    -0.040988   \n",
       "\n",
       "       3-hydroxy-DL-kynurenine 6-benzylaminopurine 6-bromoindirubin-3'-oxime  \\\n",
       "                          MCF7                MCF7                      MCF7   \n",
       "                  1.780000e-05        1.780000e-05              5.000000e-07   \n",
       "                           6.0                 6.0                       6.0   \n",
       "index                                                                          \n",
       "A1CF                 -0.003066           -0.153014                 -0.189491   \n",
       "A2M                  -0.032976           -0.028465                  0.149992   \n",
       "A4GALT                0.187174           -0.010061                  0.281815   \n",
       "A4GNT                 0.137116            0.014077                  0.264988   \n",
       "AAAS                 -0.064429            0.071562                  0.358606   \n",
       "\n",
       "                       AG-013608                   LM-1685     ...       \\\n",
       "                PC3         MCF7          PC3         MCF7     ...        \n",
       "       5.000000e-07 1.000000e-05 1.000000e-05 1.000000e-05     ...        \n",
       "                6.0          6.0          6.0          6.0     ...        \n",
       "index                                                          ...        \n",
       "A1CF      -0.056747     0.053712    -0.090796    -0.109169     ...        \n",
       "A2M        0.201412     0.111231    -0.093552    -0.306034     ...        \n",
       "A4GALT    -0.047598     0.296198    -0.203035    -0.387214     ...        \n",
       "A4GNT      0.029992     0.130128     0.078643    -0.274783     ...        \n",
       "AAAS      -0.208294    -0.132877    -0.089925    -0.028209     ...        \n",
       "\n",
       "       valproic acid                                                      \\\n",
       "                HL60                                   MCF7                \n",
       "        2.000000e-04 5.000000e-04 1.000000e-03 2.000000e-04 5.000000e-04   \n",
       "                 6.0          6.0          6.0          6.0          6.0   \n",
       "index                                                                      \n",
       "A1CF       -0.041008    -0.269693    -0.015152    -0.035858     0.010266   \n",
       "A2M         0.034296    -0.046127    -0.050175     0.113847     0.045908   \n",
       "A4GALT     -0.306343     0.097723    -0.158896    -0.064560    -0.119326   \n",
       "A4GNT       0.138222     0.192490    -0.183027    -0.080426     0.064828   \n",
       "AAAS        0.347947     0.839472     0.303069     0.197391     0.351875   \n",
       "\n",
       "                                    vincamine   wortmannin               \n",
       "                             PC3         MCF7         HL60         MCF7  \n",
       "       1.000000e-03 1.000000e-03 1.120000e-05 1.000000e-08 1.000000e-08  \n",
       "                6.0          6.0          6.0          6.0          6.0  \n",
       "index                                                                    \n",
       "A1CF       0.006143    -0.002440     0.201364     0.052372     0.201365  \n",
       "A2M       -0.103037    -0.157547     0.203395    -0.071980    -0.085206  \n",
       "A4GALT     0.098423    -0.110845    -0.084516     0.161199    -0.110990  \n",
       "A4GNT      0.056421     0.051705    -0.137162     0.083373     0.040680  \n",
       "AAAS       0.179905     0.064108     0.299778     0.003838    -0.086696  \n",
       "\n",
       "[5 rows x 200 columns]"
      ]
     },
     "execution_count": 116,
     "metadata": {},
     "output_type": "execute_result"
    }
   ],
   "source": [
    "fold_change.head()"
   ]
  },
  {
   "cell_type": "code",
   "execution_count": 111,
   "metadata": {
    "collapsed": true,
    "deletable": true,
    "editable": true
   },
   "outputs": [],
   "source": [
    "p_df.dropna(how='all', axis=1, inplace=True)"
   ]
  },
  {
   "cell_type": "code",
   "execution_count": 112,
   "metadata": {
    "collapsed": true,
    "deletable": true,
    "editable": true
   },
   "outputs": [],
   "source": [
    "q_df.dropna(how='all', axis=1, inplace=True)"
   ]
  },
  {
   "cell_type": "code",
   "execution_count": 113,
   "metadata": {
    "collapsed": false,
    "deletable": true,
    "editable": true
   },
   "outputs": [],
   "source": [
    "fold_change.dropna(how='all', axis=1, inplace=True)"
   ]
  },
  {
   "cell_type": "code",
   "execution_count": 118,
   "metadata": {
    "collapsed": false,
    "deletable": true,
    "editable": true
   },
   "outputs": [],
   "source": [
    "filename = '/Users/moshesilverstein/Desktop/cmap/p_values_%s.tsv'% str(datetime.date.today()).replace('-', '_')\n",
    "p_df.to_csv(filename, sep='\\t')"
   ]
  },
  {
   "cell_type": "code",
   "execution_count": 119,
   "metadata": {
    "collapsed": true,
    "deletable": true,
    "editable": true
   },
   "outputs": [],
   "source": [
    "filename = '/Users/moshesilverstein/Desktop/cmap/fold_changes_%s.tsv'% str(datetime.date.today()).replace('-', '_')\n",
    "fold_change.to_csv(filename, sep='\\t')"
   ]
  },
  {
   "cell_type": "code",
   "execution_count": 120,
   "metadata": {
    "collapsed": true,
    "deletable": true,
    "editable": true
   },
   "outputs": [],
   "source": [
    "filename = '/Users/moshesilverstein/Desktop/cmap/q_values_%s.tsv'% str(datetime.date.today()).replace('-', '_')\n",
    "q_df.to_csv(filename, sep='\\t')"
   ]
  },
  {
   "cell_type": "code",
   "execution_count": 169,
   "metadata": {
    "collapsed": true,
    "deletable": true,
    "editable": true
   },
   "outputs": [],
   "source": [
    "p_df = pd.read_csv('p_values_2017_03_09.tsv', sep='\\t', header=[0,1,2, 3], index_col=0)"
   ]
  },
  {
   "cell_type": "code",
   "execution_count": null,
   "metadata": {
    "collapsed": true,
    "deletable": true,
    "editable": true
   },
   "outputs": [],
   "source": [
    "#fold_change = pd.read_csv('fold_changes_2017_03_06.tsv', sep='\\t', header=[0,1,2, 3], index_col=0)"
   ]
  },
  {
   "cell_type": "markdown",
   "metadata": {
    "deletable": true,
    "editable": true
   },
   "source": [
    "## BUILD CMAP SIGNATURE DATFRAME"
   ]
  },
  {
   "cell_type": "code",
   "execution_count": 170,
   "metadata": {
    "collapsed": true,
    "deletable": true,
    "editable": true
   },
   "outputs": [],
   "source": [
    "drug_df = pd.DataFrame(index=np.arange(1,p_df.shape[1]+1), columns=['DRUG_NAME', 'CELL_NAME', 'CELL_INFO','PERTUBATION_TIME', 'PERTUBATION_TIME_UNIT', 'PERTUBATION_DOSE', 'PERTUBATION_DOSE_UNIT'])"
   ]
  },
  {
   "cell_type": "code",
   "execution_count": 171,
   "metadata": {
    "collapsed": true,
    "deletable": true,
    "editable": true
   },
   "outputs": [],
   "source": [
    "drug_df.index.name = 'ID'"
   ]
  },
  {
   "cell_type": "code",
   "execution_count": 172,
   "metadata": {
    "collapsed": false,
    "deletable": true,
    "editable": true
   },
   "outputs": [],
   "source": [
    "# build drug table,\n",
    "i = 1\n",
    "for index in p_df.columns:\n",
    "    drug_df.ix[i, 'DRUG_NAME'] = index[0]\n",
    "    #drug_df.ix[i, 'DRUG_NAME'] = meta_indexed.ix[i]['catalog_name']\n",
    "    drug_df.ix[i, 'CELL_NAME'] = index[1]\n",
    "    drug_df.ix[i, 'PERTUBATION_TIME'] = index[3]\n",
    "    drug_df.ix[i, 'PERTUBATION_TIME_UNIT'] = 'h'\n",
    "    drug_df.ix[i, 'PERTUBATION_DOSE'] = float(index[2])*10**6\n",
    "    drug_df.ix[i, 'PERTUBATION_DOSE_UNIT'] = '\\u03BC'+'M'\n",
    "    if index[1] == 'MCF7':\n",
    "        drug_df.ix[i, 'CELL_INFO'] = 'human breast epithelial adenocarcinoma cell line derived from pleural effusion (ATCC# HTB-22) cultured in DMEM supplemented with 10% fetal bovine serum and 1% penicillin-streptomycin-glutamine'\n",
    "    elif index[1] == 'PC3':\n",
    "        drug_df.ix[i, 'CELL_INFO'] = 'epithelial cell line established from human prostate adenocarcinoma (ATCC# CRL-1435) cultured in RPMI supplemented with 10% fetal bovine serum, 1% sodium pyruvate and 1% penicillin-streptomycin-glutamate'\n",
    "    elif index[1] == 'SKMEL5':\n",
    "        drug_df.ix[i, 'CELL_INFO'] = 'human malignant melanoma cell line derived from a metastatic axillary node (ATCC# HTB-70) cultured in DMEM supplemented with 10% fetal bovine serum, 1% penicillin-streptomycin-glutamate, 1% non-essential amino acids and 1% sodium pyruvate'\n",
    "    elif index[1] == 'HL60':\n",
    "        drug_df.ix[i, 'CELL_INFO'] = 'human promyelocytic cell line established by leukopheresis from promyelocytic leukemia (ATCC# CCL-240) cultured in RPMI supplemented with 10% fetal bovine serum and 1% penicillin-streptomycin-glutamate'\n",
    "    elif index[1] == 'ssMCF7':\n",
    "        drug_df.ix[i, 'CELL_INFO'] = 'MCF7 cells cultured in phenol red free DMEM supplemented with 5% charcoal/dextran stripped fetal bovine serum, 1% penicillin-streptomycin-glutamine and 3.3 mg/ml bovine serum albumin immediately before and during treatments'\n",
    "    i+=1"
   ]
  },
  {
   "cell_type": "code",
   "execution_count": 173,
   "metadata": {
    "collapsed": false,
    "deletable": true,
    "editable": true
   },
   "outputs": [
    {
     "data": {
      "text/html": [
       "<div>\n",
       "<table border=\"1\" class=\"dataframe\">\n",
       "  <thead>\n",
       "    <tr style=\"text-align: right;\">\n",
       "      <th></th>\n",
       "      <th>DRUG_NAME</th>\n",
       "      <th>CELL_NAME</th>\n",
       "      <th>CELL_INFO</th>\n",
       "      <th>PERTUBATION_TIME</th>\n",
       "      <th>PERTUBATION_TIME_UNIT</th>\n",
       "      <th>PERTUBATION_DOSE</th>\n",
       "      <th>PERTUBATION_DOSE_UNIT</th>\n",
       "    </tr>\n",
       "    <tr>\n",
       "      <th>ID</th>\n",
       "      <th></th>\n",
       "      <th></th>\n",
       "      <th></th>\n",
       "      <th></th>\n",
       "      <th></th>\n",
       "      <th></th>\n",
       "      <th></th>\n",
       "    </tr>\n",
       "  </thead>\n",
       "  <tbody>\n",
       "    <tr>\n",
       "      <th>1</th>\n",
       "      <td>15-delta prostaglandin J2</td>\n",
       "      <td>HL60</td>\n",
       "      <td>human promyelocytic cell line established by l...</td>\n",
       "      <td>6.0</td>\n",
       "      <td>h</td>\n",
       "      <td>10</td>\n",
       "      <td>μM</td>\n",
       "    </tr>\n",
       "    <tr>\n",
       "      <th>2</th>\n",
       "      <td>15-delta prostaglandin J2</td>\n",
       "      <td>MCF7</td>\n",
       "      <td>human breast epithelial adenocarcinoma cell li...</td>\n",
       "      <td>6.0</td>\n",
       "      <td>h</td>\n",
       "      <td>10</td>\n",
       "      <td>μM</td>\n",
       "    </tr>\n",
       "    <tr>\n",
       "      <th>3</th>\n",
       "      <td>15-delta prostaglandin J2</td>\n",
       "      <td>PC3</td>\n",
       "      <td>epithelial cell line established from human pr...</td>\n",
       "      <td>6.0</td>\n",
       "      <td>h</td>\n",
       "      <td>10</td>\n",
       "      <td>μM</td>\n",
       "    </tr>\n",
       "    <tr>\n",
       "      <th>4</th>\n",
       "      <td>3-hydroxy-DL-kynurenine</td>\n",
       "      <td>MCF7</td>\n",
       "      <td>human breast epithelial adenocarcinoma cell li...</td>\n",
       "      <td>6.0</td>\n",
       "      <td>h</td>\n",
       "      <td>17.8</td>\n",
       "      <td>μM</td>\n",
       "    </tr>\n",
       "    <tr>\n",
       "      <th>5</th>\n",
       "      <td>6-benzylaminopurine</td>\n",
       "      <td>MCF7</td>\n",
       "      <td>human breast epithelial adenocarcinoma cell li...</td>\n",
       "      <td>6.0</td>\n",
       "      <td>h</td>\n",
       "      <td>17.8</td>\n",
       "      <td>μM</td>\n",
       "    </tr>\n",
       "  </tbody>\n",
       "</table>\n",
       "</div>"
      ],
      "text/plain": [
       "                    DRUG_NAME CELL_NAME  \\\n",
       "ID                                        \n",
       "1   15-delta prostaglandin J2      HL60   \n",
       "2   15-delta prostaglandin J2      MCF7   \n",
       "3   15-delta prostaglandin J2       PC3   \n",
       "4     3-hydroxy-DL-kynurenine      MCF7   \n",
       "5         6-benzylaminopurine      MCF7   \n",
       "\n",
       "                                            CELL_INFO PERTUBATION_TIME  \\\n",
       "ID                                                                       \n",
       "1   human promyelocytic cell line established by l...              6.0   \n",
       "2   human breast epithelial adenocarcinoma cell li...              6.0   \n",
       "3   epithelial cell line established from human pr...              6.0   \n",
       "4   human breast epithelial adenocarcinoma cell li...              6.0   \n",
       "5   human breast epithelial adenocarcinoma cell li...              6.0   \n",
       "\n",
       "   PERTUBATION_TIME_UNIT PERTUBATION_DOSE PERTUBATION_DOSE_UNIT  \n",
       "ID                                                               \n",
       "1                      h               10                    μM  \n",
       "2                      h               10                    μM  \n",
       "3                      h               10                    μM  \n",
       "4                      h             17.8                    μM  \n",
       "5                      h             17.8                    μM  "
      ]
     },
     "execution_count": 173,
     "metadata": {},
     "output_type": "execute_result"
    }
   ],
   "source": [
    "drug_df.head()"
   ]
  },
  {
   "cell_type": "code",
   "execution_count": null,
   "metadata": {
    "collapsed": false,
    "deletable": true,
    "editable": true
   },
   "outputs": [],
   "source": []
  },
  {
   "cell_type": "code",
   "execution_count": 174,
   "metadata": {
    "collapsed": false,
    "deletable": true,
    "editable": true
   },
   "outputs": [],
   "source": [
    "filename = '/Users/moshesilverstein/Desktop/cmap/cmap_signature_%s.tsv'% str(datetime.date.today()).replace('-', '_')\n",
    "drug_df.to_csv(filename, sep='\\t', encoding='utf-8')"
   ]
  },
  {
   "cell_type": "markdown",
   "metadata": {
    "deletable": true,
    "editable": true
   },
   "source": [
    "## BUILD CMAP ASSOCIATION DATAFRAME"
   ]
  },
  {
   "cell_type": "code",
   "execution_count": 158,
   "metadata": {
    "collapsed": true,
    "deletable": true,
    "editable": true
   },
   "outputs": [],
   "source": [
    "p_df.columns = drug_df.index.copy()"
   ]
  },
  {
   "cell_type": "code",
   "execution_count": 159,
   "metadata": {
    "collapsed": true,
    "deletable": true,
    "editable": true
   },
   "outputs": [],
   "source": [
    "fold_change.columns = drug_df.index.copy()"
   ]
  },
  {
   "cell_type": "code",
   "execution_count": 160,
   "metadata": {
    "collapsed": true,
    "deletable": true,
    "editable": true
   },
   "outputs": [],
   "source": [
    "q_df.columns = drug_df.index.copy()"
   ]
  },
  {
   "cell_type": "code",
   "execution_count": 163,
   "metadata": {
    "collapsed": false,
    "deletable": true,
    "editable": true
   },
   "outputs": [
    {
     "name": "stdout",
     "output_type": "stream",
     "text": [
      "200 Out of 200"
     ]
    }
   ],
   "source": [
    "association_df = pd.DataFrame()\n",
    "i = 0\n",
    "for pert in drug_df.index:\n",
    "    i += 1\n",
    "    print('\\r'+ str(i) + ' Out of ' + str(len(drug_df.index)), end='', flush=True)\n",
    "    for gene in p_df.index:\n",
    "        lst = []\n",
    "        if p_df.ix[gene, pert] < 0.01:\n",
    "            lst.append(pert)\n",
    "            lst.append(gene)\n",
    "            lst.append(fold_change.ix[gene, pert])\n",
    "            lst.append(p_df.ix[gene, pert])\n",
    "            lst.append(q_df.ix[gene, pert])\n",
    "            temp_df = pd.DataFrame(data=lst, index=['signature_fk', 'gene_symbol', 'fold_change', 'p_value', 'q_value'])\n",
    "            association_df = pd.concat([association_df, temp_df.T])\n",
    "\n",
    "association_df.index = np.arange(1,len(association_df.index)+1)\n",
    "\n",
    "filename = '/Users/moshesilverstein/Desktop/cmap/cmap_association_%s.tsv'% str(datetime.date.today()).replace('-', '_')\n",
    "association_df.to_csv(filename, sep='\\t')"
   ]
  }
 ],
 "metadata": {
  "kernelspec": {
   "display_name": "Python [default]",
   "language": "python",
   "name": "python3"
  },
  "language_info": {
   "codemirror_mode": {
    "name": "ipython",
    "version": 3
   },
   "file_extension": ".py",
   "mimetype": "text/x-python",
   "name": "python",
   "nbconvert_exporter": "python",
   "pygments_lexer": "ipython3",
   "version": "3.5.2"
  }
 },
 "nbformat": 4,
 "nbformat_minor": 2
}
